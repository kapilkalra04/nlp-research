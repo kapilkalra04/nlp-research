{
 "cells": [
  {
   "cell_type": "code",
   "execution_count": 1,
   "metadata": {},
   "outputs": [
    {
     "name": "stderr",
     "output_type": "stream",
     "text": [
      "c:\\python27\\lib\\site-packages\\gensim\\utils.py:1212: UserWarning: detected Windows; aliasing chunkize to chunkize_serial\n",
      "  warnings.warn(\"detected Windows; aliasing chunkize to chunkize_serial\")\n"
     ]
    }
   ],
   "source": [
    "import gensim\n",
    "from gensim.parsing.preprocessing import preprocess_string, strip_tags, strip_punctuation, strip_multiple_whitespaces, strip_numeric"
   ]
  },
  {
   "cell_type": "code",
   "execution_count": 2,
   "metadata": {},
   "outputs": [],
   "source": [
    "import os\n",
    "import io"
   ]
  },
  {
   "cell_type": "code",
   "execution_count": 3,
   "metadata": {},
   "outputs": [],
   "source": [
    "os.chdir('C:\\\\Users\\\\kapilkalra04\\\\Documents\\\\Github\\\\nlp-research')"
   ]
  },
  {
   "cell_type": "code",
   "execution_count": 4,
   "metadata": {},
   "outputs": [
    {
     "name": "stdout",
     "output_type": "stream",
     "text": [
      "Oct 12 2009 \tNice trendy hotel location not too bad.\tI stayed in this hotel for one night. As this is a fairly new place some of the taxi drivers did not know where it was and/or did not want to drive there. Once I have eventually arrived at the hotel, I was very pleasantly surprised with the decor of the lobby/ground floor area. It was very stylish and modern. I found the reception's staff geeting me with 'Aloha' a bit out of place, but I guess they are briefed to say that to keep up the coroporate image.As I have a Starwood Preferred Guest member, I was given a small gift upon-check in. It was only a couple of fridge magnets in a gift box, but nevertheless a nice gesture.My room was nice and roomy, there are tea and coffee facilities in each room and you get two complimentary bottles of water plus some toiletries by 'bliss'.The location is not great. It is at the last metro stop and you then need to take a taxi, but if you are not planning on going to see the historic sites in Beijing, then you will be ok.I chose to have some breakfast in the hotel, which was really tasty and there was a good selection of dishes. There are a couple of computers to use in the communal area, as well as a pool table. There is also a small swimming pool and a gym area.I would definitely stay in this hotel again, but only if I did not plan to travel to central Beijing, as it can take a long time. The location is ok if you plan to do a lot of shopping, as there is a big shopping centre just few minutes away from the hotel and there are plenty of eating options around, including restaurants that serve a dog meat!\t\r\n",
      "\n"
     ]
    }
   ],
   "source": [
    "with open ('datasets\\\\review_texts.txt', 'rb') as f:\n",
    "        for i,line in enumerate (f):\n",
    "            print(line)\n",
    "            break"
   ]
  },
  {
   "cell_type": "code",
   "execution_count": 5,
   "metadata": {},
   "outputs": [],
   "source": [
    "data_file = 'datasets\\\\review_texts.txt'"
   ]
  },
  {
   "cell_type": "code",
   "execution_count": 6,
   "metadata": {},
   "outputs": [],
   "source": [
    "def read_input(input_file):\n",
    "    CUSTOM_FILTERS = [lambda x: x.lower(), strip_tags, strip_punctuation, strip_multiple_whitespaces, strip_numeric]\n",
    "    \"\"\"This method reads the input file which is in gzip format\"\"\"\n",
    "    with io.open (input_file, encoding=\"utf8\", errors=\"ignore\") as f:\n",
    "        for i, line in enumerate (f): \n",
    "            if (i%10000==0):\n",
    "                print i\n",
    "            # do some pre-processing and return a list of words for each review text\n",
    "            yield preprocess_string(line, CUSTOM_FILTERS)"
   ]
  },
  {
   "cell_type": "code",
   "execution_count": 7,
   "metadata": {},
   "outputs": [
    {
     "name": "stdout",
     "output_type": "stream",
     "text": [
      "0\n",
      "10000\n",
      "20000\n",
      "30000\n",
      "40000\n",
      "50000\n",
      "60000\n",
      "70000\n",
      "80000\n",
      "90000\n",
      "100000\n",
      "110000\n",
      "120000\n",
      "130000\n",
      "140000\n",
      "150000\n",
      "160000\n",
      "170000\n",
      "180000\n",
      "190000\n",
      "200000\n",
      "210000\n",
      "220000\n",
      "230000\n",
      "240000\n",
      "250000\n",
      "Input Ready\n"
     ]
    }
   ],
   "source": [
    "# read the tokenized reviews into a list\n",
    "# each review item becomes a serries of words\n",
    "# so this becomes a list of lists\n",
    "documents = list (read_input (data_file))\n",
    "print \"Input Ready\""
   ]
  },
  {
   "cell_type": "code",
   "execution_count": 8,
   "metadata": {},
   "outputs": [
    {
     "data": {
      "text/plain": [
       "(629896157, 878923280)"
      ]
     },
     "execution_count": 8,
     "metadata": {},
     "output_type": "execute_result"
    }
   ],
   "source": [
    "model = gensim.models.Word2Vec (documents, size=200, window=10, min_count=2, workers=8)\n",
    "model.train(documents,total_examples=len(documents),epochs=20)"
   ]
  },
  {
   "cell_type": "code",
   "execution_count": 9,
   "metadata": {},
   "outputs": [],
   "source": [
    "vector1 = model.wv['hotel']"
   ]
  },
  {
   "cell_type": "code",
   "execution_count": 10,
   "metadata": {},
   "outputs": [
    {
     "data": {
      "text/plain": [
       "array([ 4.6682320e+00,  2.2221241e+00, -1.6648053e+00,  3.9154941e-01,\n",
       "        5.4151243e-01, -2.5340645e+00, -4.6677223e-01, -2.7093599e+00,\n",
       "        1.0909215e+00,  9.6118070e-02,  4.2210526e+00, -3.7529431e-02,\n",
       "       -7.8939326e-02, -1.1208559e+00, -4.7225838e+00, -1.5055629e+00,\n",
       "        1.0770366e+00,  2.2384475e-01, -5.8554536e-01,  1.0148275e-01,\n",
       "        2.2037735e+00,  6.0329175e+00,  7.8653228e-01, -2.3642671e+00,\n",
       "       -2.7654252e+00,  1.3571640e+00,  3.8078136e+00, -1.7076671e+00,\n",
       "        4.0476525e-01,  8.3373034e-01,  1.4216197e+00, -7.8121856e-02,\n",
       "        6.6573657e-02,  1.0810721e+00,  1.4706342e+00,  3.3927915e+00,\n",
       "        4.3848035e-01,  7.4303091e-01,  8.2096167e-02,  7.0668256e-01,\n",
       "        4.7397414e-01, -1.6010420e+00,  1.8361564e+00,  2.9158778e-02,\n",
       "        2.7339735e+00,  4.1017675e-01,  1.1682246e-01,  5.3767753e-01,\n",
       "        4.0110376e-01, -9.7122854e-01, -3.5370314e-01,  2.8342409e+00,\n",
       "        1.8101598e+00, -1.8434483e-01,  1.4332656e+00,  2.9097803e+00,\n",
       "        1.3442725e+00,  3.1713750e+00, -1.5703082e+00, -1.3426445e+00,\n",
       "       -2.7327406e+00,  1.1109834e+00, -5.9529287e-01,  1.3355564e+00,\n",
       "        1.2677941e+00,  2.1470430e+00, -2.1110004e-01,  3.8586631e-01,\n",
       "       -3.8480130e-01,  9.6035552e-01,  3.6492550e+00,  3.1286263e+00,\n",
       "        2.0610342e+00, -1.8797987e+00, -2.0321414e+00,  1.2139485e+00,\n",
       "        3.5797328e-01, -1.3506355e+00,  6.7369825e-01,  2.7604399e+00,\n",
       "        2.7699997e+00,  1.2257878e-01,  3.1995571e+00, -6.6854137e-01,\n",
       "       -2.2955348e+00,  2.8373146e+00,  1.0305250e+00, -1.3099637e+00,\n",
       "       -4.4444942e-01,  1.3309389e+00, -3.1652396e+00,  1.1651399e+00,\n",
       "        2.8150361e+00,  8.4793913e-01, -1.1251740e+00, -7.0389491e-01,\n",
       "        5.6254921e+00, -1.2841808e+00, -4.1595408e-01,  2.0659425e+00,\n",
       "        1.1097927e+00,  1.2981484e+00,  2.9708235e+00, -6.1807930e-01,\n",
       "       -7.7814239e-01, -1.9405859e+00,  1.3787776e+00,  1.9680642e+00,\n",
       "        3.9208665e-01,  2.5720340e-01, -2.8418732e+00,  2.3149433e-02,\n",
       "       -5.7980496e-01, -2.6533239e+00, -2.2652431e+00,  3.0743856e+00,\n",
       "       -1.1561948e+00,  3.5784667e+00,  3.1060250e+00,  9.3818355e-01,\n",
       "        2.9991889e+00, -6.8724382e-01,  5.1381853e-03, -1.3065865e+00,\n",
       "        8.9907348e-01,  2.6295991e+00,  5.2317953e-01,  2.2069585e+00,\n",
       "        2.0643959e+00, -2.4178090e+00, -8.3537412e-01,  1.3724066e+00,\n",
       "        5.3531084e-02, -1.3331788e+00, -1.6183360e+00,  1.1148578e+00,\n",
       "       -2.2795281e+00, -2.3505969e+00, -1.6589580e+00,  4.0627849e-01,\n",
       "        2.4661531e-01, -1.9141854e+00, -1.7029898e+00, -2.1358919e+00,\n",
       "        1.3879075e+00,  1.5828172e+00,  1.1199359e+00,  1.2782178e+00,\n",
       "        1.5938383e+00, -5.9028220e-01,  1.1569114e+00,  1.4202473e-01,\n",
       "       -1.3519051e+00, -1.4651309e-01,  2.7047172e+00, -2.9304674e+00,\n",
       "       -8.9765173e-01,  1.8520600e+00, -4.4134049e+00, -3.7123735e+00,\n",
       "       -8.1546414e-01, -1.5603234e+00,  2.4757745e+00,  7.9830155e-02,\n",
       "        1.8838541e-01,  8.8014060e-01,  2.9871874e+00,  1.8665124e+00,\n",
       "        2.7179654e+00,  1.0285264e+00, -3.4243944e-01,  1.9660861e+00,\n",
       "        1.5361202e+00,  1.6453587e+00,  2.4895704e+00, -2.3215528e+00,\n",
       "       -3.9938517e+00,  2.5194287e+00, -3.0205512e-01,  2.9824486e+00,\n",
       "        3.4740832e-01, -6.7285138e-01,  9.7858232e-01, -4.3479414e+00,\n",
       "        7.0229024e-01, -1.0724472e+00,  1.1400986e-01,  1.3171793e+00,\n",
       "        4.3368381e-01, -2.3389184e+00,  8.0299348e-01, -5.7081509e-02,\n",
       "        8.5683608e-01,  1.9879956e+00,  4.3750656e-01,  1.0945668e+00,\n",
       "        5.9264416e-01,  1.6314402e+00,  1.2953079e+00, -4.2038485e-01],\n",
       "      dtype=float32)"
      ]
     },
     "execution_count": 10,
     "metadata": {},
     "output_type": "execute_result"
    }
   ],
   "source": [
    "vector1"
   ]
  },
  {
   "cell_type": "code",
   "execution_count": 12,
   "metadata": {},
   "outputs": [
    {
     "name": "stderr",
     "output_type": "stream",
     "text": [
      "c:\\python27\\lib\\site-packages\\gensim\\matutils.py:737: FutureWarning: Conversion of the second argument of issubdtype from `int` to `np.signedinteger` is deprecated. In future, it will be treated as `np.int32 == np.dtype(int).type`.\n",
      "  if np.issubdtype(vec.dtype, np.int):\n"
     ]
    },
    {
     "data": {
      "text/plain": [
       "[(u'property', 0.818871021270752),\n",
       " (u'resort', 0.6693570613861084),\n",
       " (u'place', 0.631790041923523),\n",
       " (u'establishment', 0.624773383140564),\n",
       " (u'accomodation', 0.505827009677887),\n",
       " (u'travelodge', 0.49011656641960144),\n",
       " (u'motel', 0.4724275767803192),\n",
       " (u'accommodation', 0.4634489417076111),\n",
       " (u'hotels', 0.4287484884262085),\n",
       " (u'facility', 0.42720547318458557)]"
      ]
     },
     "execution_count": 12,
     "metadata": {},
     "output_type": "execute_result"
    }
   ],
   "source": [
    "model.wv.most_similar('hotel')"
   ]
  },
  {
   "cell_type": "code",
   "execution_count": 16,
   "metadata": {},
   "outputs": [
    {
     "data": {
      "text/plain": [
       "[(u'personnel', 0.838747501373291),\n",
       " (u'employees', 0.7938424348831177),\n",
       " (u'staffs', 0.7801159620285034),\n",
       " (u'receptionists', 0.699010968208313),\n",
       " (u'personel', 0.6302253603935242),\n",
       " (u'doormen', 0.6258382201194763),\n",
       " (u'concierges', 0.6146460771560669),\n",
       " (u'staf', 0.6138290166854858),\n",
       " (u'clerks', 0.6055715084075928),\n",
       " (u'satff', 0.5874670743942261)]"
      ]
     },
     "execution_count": 16,
     "metadata": {},
     "output_type": "execute_result"
    }
   ],
   "source": [
    "model.wv.most_similar('staff')"
   ]
  },
  {
   "cell_type": "code",
   "execution_count": 17,
   "metadata": {},
   "outputs": [
    {
     "data": {
      "text/plain": [
       "[(u'seats', 0.6671133041381836),\n",
       " (u'table', 0.5827286839485168),\n",
       " (u'stool', 0.487164169549942),\n",
       " (u'chairs', 0.45730844140052795),\n",
       " (u'sit', 0.4403817057609558),\n",
       " (u'lounger', 0.43861234188079834),\n",
       " (u'ledge', 0.4317517876625061),\n",
       " (u'tables', 0.4306005835533142),\n",
       " (u'folding', 0.4267390966415405),\n",
       " (u'chair', 0.42510703206062317)]"
      ]
     },
     "execution_count": 17,
     "metadata": {},
     "output_type": "execute_result"
    }
   ],
   "source": [
    "model.wv.most_similar('seat')"
   ]
  },
  {
   "cell_type": "code",
   "execution_count": 18,
   "metadata": {},
   "outputs": [
    {
     "name": "stderr",
     "output_type": "stream",
     "text": [
      "c:\\python27\\lib\\site-packages\\ipykernel_launcher.py:1: DeprecationWarning: Call to deprecated `syn0` (Attribute will be removed in 4.0.0, use self.wv.vectors instead).\n",
      "  \"\"\"Entry point for launching an IPython kernel.\n"
     ]
    },
    {
     "data": {
      "text/plain": [
       "numpy.ndarray"
      ]
     },
     "execution_count": 18,
     "metadata": {},
     "output_type": "execute_result"
    }
   ],
   "source": [
    "type(model.wv.syn0)"
   ]
  },
  {
   "cell_type": "code",
   "execution_count": 19,
   "metadata": {},
   "outputs": [
    {
     "name": "stderr",
     "output_type": "stream",
     "text": [
      "c:\\python27\\lib\\site-packages\\ipykernel_launcher.py:1: DeprecationWarning: Call to deprecated `syn0` (Attribute will be removed in 4.0.0, use self.wv.vectors instead).\n",
      "  \"\"\"Entry point for launching an IPython kernel.\n"
     ]
    },
    {
     "data": {
      "text/plain": [
       "(71353L, 200L)"
      ]
     },
     "execution_count": 19,
     "metadata": {},
     "output_type": "execute_result"
    }
   ],
   "source": [
    "model.wv.syn0.shape"
   ]
  },
  {
   "cell_type": "code",
   "execution_count": null,
   "metadata": {},
   "outputs": [],
   "source": []
  }
 ],
 "metadata": {
  "kernelspec": {
   "display_name": "Python 2",
   "language": "python",
   "name": "python2"
  },
  "language_info": {
   "codemirror_mode": {
    "name": "ipython",
    "version": 2
   },
   "file_extension": ".py",
   "mimetype": "text/x-python",
   "name": "python",
   "nbconvert_exporter": "python",
   "pygments_lexer": "ipython2",
   "version": "2.7.15"
  }
 },
 "nbformat": 4,
 "nbformat_minor": 2
}
